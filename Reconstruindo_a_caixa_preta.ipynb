{
  "nbformat": 4,
  "nbformat_minor": 0,
  "metadata": {
    "colab": {
      "provenance": []
    },
    "kernelspec": {
      "name": "python3",
      "display_name": "Python 3"
    },
    "language_info": {
      "name": "python"
    }
  },
  "cells": [
    {
      "cell_type": "markdown",
      "source": [
        "# Por dentro da caixa-preta: uma abordagem prática de IA e NLP\n",
        "\n",
        "Esse colab foi elaborado para o workshop [Por trás da caixa-preta: uma abordagem prática de IA e NLP](https://escoladedados.org/coda/coda2023/por-dentro-da-caixa-preta-uma-abordagem-pratica-de-ia-e-nlp/) do Coda.Br 2023.\n",
        "\n",
        "Vamos abordar aqui alguns conceitos fundamentais sobre Aprendizado de Máquina, Redes Neurais e Processamento de Linguagem Natural. O principal exemplo de aplicação será a classificação de ementas da ALESP usando TF-IDF e MLP.\n",
        "\n"
      ],
      "metadata": {
        "id": "bJZrEohhVuih"
      }
    },
    {
      "cell_type": "markdown",
      "source": [
        "Instalação dos pacotes:"
      ],
      "metadata": {
        "id": "aVT78oMTDcHE"
      }
    },
    {
      "cell_type": "code",
      "execution_count": null,
      "metadata": {
        "id": "ss80-9NSKXbu",
        "colab": {
          "base_uri": "https://localhost:8080/"
        },
        "outputId": "94baf730-2257-456e-fc84-3c2424424f5f"
      },
      "outputs": [
        {
          "output_type": "stream",
          "name": "stdout",
          "text": [
            "Collecting unidecode\n",
            "  Downloading Unidecode-1.3.7-py3-none-any.whl (235 kB)\n",
            "\u001b[2K     \u001b[90m━━━━━━━━━━━━━━━━━━━━━━━━━━━━━━━━━━━━━━━━\u001b[0m \u001b[32m235.5/235.5 kB\u001b[0m \u001b[31m3.6 MB/s\u001b[0m eta \u001b[36m0:00:00\u001b[0m\n",
            "\u001b[?25hInstalling collected packages: unidecode\n",
            "Successfully installed unidecode-1.3.7\n"
          ]
        },
        {
          "output_type": "stream",
          "name": "stderr",
          "text": [
            "[nltk_data] Downloading package punkt to /root/nltk_data...\n",
            "[nltk_data]   Unzipping tokenizers/punkt.zip.\n",
            "[nltk_data] Downloading package wordnet to /root/nltk_data...\n"
          ]
        },
        {
          "output_type": "execute_result",
          "data": {
            "text/plain": [
              "True"
            ]
          },
          "metadata": {},
          "execution_count": 1
        }
      ],
      "source": [
        "!pip install unidecode\n",
        "\n",
        "import pandas as pd\n",
        "import nltk\n",
        "import torch\n",
        "import numpy as np\n",
        "import matplotlib.pyplot as plt\n",
        "\n",
        "import seaborn as sns\n",
        "\n",
        "from copy import deepcopy\n",
        "\n",
        "from nltk import word_tokenize, download\n",
        "from nltk.stem import WordNetLemmatizer\n",
        "\n",
        "#from sklearn.datasets import load_iris\n",
        "from sklearn.feature_extraction.text import TfidfVectorizer\n",
        "from sklearn.linear_model import Perceptron\n",
        "from sklearn.neural_network import MLPClassifier\n",
        "from sklearn.decomposition import PCA\n",
        "from sklearn.cluster import KMeans\n",
        "from sklearn.preprocessing import LabelEncoder\n",
        "from sklearn.model_selection import train_test_split, GridSearchCV\n",
        "from sklearn.metrics import accuracy_score, confusion_matrix, classification_report\n",
        "\n",
        "nltk.download('punkt')\n",
        "nltk.download('wordnet')\n",
        "\n"
      ]
    },
    {
      "cell_type": "markdown",
      "source": [
        "# Dados"
      ],
      "metadata": {
        "id": "VpOCryrMKLeY"
      }
    },
    {
      "cell_type": "markdown",
      "source": [],
      "metadata": {
        "id": "zvjryZ4mHZJn"
      }
    },
    {
      "cell_type": "code",
      "source": [
        "# subindo os dados\n",
        "# proposituras são as ementas\n",
        "# proposituras parecer tem a coluna para saber se foi classsificado com o parecer favorável ou contrário\n",
        "\n",
        "df_1 = pd.read_xml('/content/proposituras.xml')\n",
        "df_2 = pd.read_xml('/content/propositura_parecer.xml')"
      ],
      "metadata": {
        "id": "OmQw8SOcRbXt"
      },
      "execution_count": null,
      "outputs": []
    },
    {
      "cell_type": "code",
      "source": [
        "# juntando a ementa e seu parecer\n",
        "# ambas tem a coluna 'IdDocumento'\n",
        "df = df_1.merge(df_2)"
      ],
      "metadata": {
        "id": "E4ljh6Xn4IrP"
      },
      "execution_count": null,
      "outputs": []
    },
    {
      "cell_type": "code",
      "source": [
        "# filtrando apenas as informações necessárias\n",
        "\n",
        "df = df[['AnoLegislativo', 'Ementa', 'TipoParecer', 'IdDocumento']]"
      ],
      "metadata": {
        "id": "wMZS0DigOOHC"
      },
      "execution_count": null,
      "outputs": []
    },
    {
      "cell_type": "code",
      "source": [
        "# eliminando as ementas duplicadas\n",
        "\n",
        "# muitos casos tinham ementas iguais e que, uma hora tinham sido consideradas\n",
        "# contrárias e outra hora favorável. Por isso é excluída ambas\n",
        "\n",
        "df= df.drop_duplicates(subset='Ementa', keep=False )"
      ],
      "metadata": {
        "id": "L3evFyDSOS4F"
      },
      "execution_count": null,
      "outputs": []
    },
    {
      "cell_type": "code",
      "source": [
        "# selecionando apenas quem tem aprecer favorável ou contrário\n",
        "\n",
        "df_contrario = df.query('TipoParecer == \"contrário\"')\n",
        "df_favoravel = df.query('TipoParecer == \"favorável\"')"
      ],
      "metadata": {
        "id": "leIyiol08zyE"
      },
      "execution_count": null,
      "outputs": []
    },
    {
      "cell_type": "code",
      "source": [
        "# criando um dataframe\n",
        "df_provisorio_fav = pd.DataFrame()\n",
        "\n",
        "# O número de itens favoráveis é muito maior.\n",
        "# Selecionando o mesmo número de favoráveis e não favoráveis por ano.\n",
        "# exemplo: no ano de 2011 existem 44 favoráveis e 44 contrários\n",
        "\n",
        "\n",
        "for index_ano, num_item in df_contrario.drop_duplicates(subset='Ementa')['AnoLegislativo'].value_counts().iteritems():\n",
        "  if len(df_favoravel.query(f'AnoLegislativo == {index_ano}')) >= num_item:\n",
        "    df_parte = df_favoravel.query(f'AnoLegislativo == {index_ano}').sample(num_item)\n",
        "  else:\n",
        "    df_parte = df_favoravel.query(f'AnoLegislativo == {index_ano}')\n",
        "  df_provisorio_fav = pd.concat([df_provisorio_fav, df_parte])"
      ],
      "metadata": {
        "colab": {
          "base_uri": "https://localhost:8080/"
        },
        "id": "_LhPYqY59Hpu",
        "outputId": "27275e2a-3132-49af-898d-a2389629eb93"
      },
      "execution_count": null,
      "outputs": [
        {
          "output_type": "stream",
          "name": "stderr",
          "text": [
            "<ipython-input-104-1c1c8600fedc>:9: FutureWarning: iteritems is deprecated and will be removed in a future version. Use .items instead.\n",
            "  for index_ano, num_item in df_contrario.drop_duplicates(subset='Ementa')['AnoLegislativo'].value_counts().iteritems():\n"
          ]
        }
      ]
    },
    {
      "cell_type": "code",
      "source": [
        "# juntando os contrários e os favoráveis\n",
        "\n",
        "df = pd.concat([df_provisorio, df_contrario])"
      ],
      "metadata": {
        "id": "x85ofmZXO7RX"
      },
      "execution_count": null,
      "outputs": []
    },
    {
      "cell_type": "code",
      "source": [
        "# excluindo uma linha que tinha a mais no contrário\n",
        "df.drop(axis=0, index=82957, inplace=True)"
      ],
      "metadata": {
        "id": "nONLzGvdulBx"
      },
      "execution_count": null,
      "outputs": []
    },
    {
      "cell_type": "code",
      "source": [
        "# mudando o nome da coluna para como foi usado anteriormente\n",
        "\n",
        "df.rename(columns={'AnoLegislativo' : 'ano',\n",
        "                         'Ementa' : 'ementa',\n",
        "                         'TipoParecer' : 'classe',\n",
        "                         'IdDocumento' : 'id_prop'}, inplace=True)"
      ],
      "metadata": {
        "id": "V2aOStONPuVi"
      },
      "execution_count": null,
      "outputs": []
    },
    {
      "cell_type": "code",
      "source": [
        "df.to_csv('ementas_classe.csv', index=False)"
      ],
      "metadata": {
        "id": "km0mGazsuGta"
      },
      "execution_count": null,
      "outputs": []
    },
    {
      "cell_type": "code",
      "source": [
        "df['classe'].value_counts()"
      ],
      "metadata": {
        "colab": {
          "base_uri": "https://localhost:8080/"
        },
        "id": "cllkQhQOvdkb",
        "outputId": "c4f37bcf-8ac0-464f-a743-14cde1cb2336"
      },
      "execution_count": null,
      "outputs": [
        {
          "output_type": "execute_result",
          "data": {
            "text/plain": [
              "favorável    206\n",
              "contrário    206\n",
              "Name: classe, dtype: int64"
            ]
          },
          "metadata": {},
          "execution_count": 109
        }
      ]
    },
    {
      "cell_type": "code",
      "source": [
        "# visualizando os dados\n",
        "\n",
        "df.head()"
      ],
      "metadata": {
        "colab": {
          "base_uri": "https://localhost:8080/",
          "height": 206
        },
        "id": "96qLjyw4GQTQ",
        "outputId": "6b23ee3f-c0a7-466a-e260-983115019aff"
      },
      "execution_count": null,
      "outputs": [
        {
          "output_type": "execute_result",
          "data": {
            "text/plain": [
              "         ano                                             ementa     classe  \\\n",
              "596516  2011  Aplaude a Rádio Aparecida, fundada há sessenta...  favorável   \n",
              "581157  2011  Declara de utilidade pública a \"Associação Lar...  favorável   \n",
              "597377  2011  Declara de utilidade pública o \"Lions Clube Fr...  favorável   \n",
              "595474  2011  Declara de utilidade pública a \"Associação Cul...  favorável   \n",
              "618195  2011  Declara de utilidade pública o VICC - \"Voluntá...  favorável   \n",
              "\n",
              "        id_prop  \n",
              "596516  1030208  \n",
              "581157  1001354  \n",
              "597377  1044407  \n",
              "595474  1061311  \n",
              "618195  1046129  "
            ],
            "text/html": [
              "\n",
              "  <div id=\"df-af992291-7b9b-4cca-b0ae-bbf1dd2d4845\" class=\"colab-df-container\">\n",
              "    <div>\n",
              "<style scoped>\n",
              "    .dataframe tbody tr th:only-of-type {\n",
              "        vertical-align: middle;\n",
              "    }\n",
              "\n",
              "    .dataframe tbody tr th {\n",
              "        vertical-align: top;\n",
              "    }\n",
              "\n",
              "    .dataframe thead th {\n",
              "        text-align: right;\n",
              "    }\n",
              "</style>\n",
              "<table border=\"1\" class=\"dataframe\">\n",
              "  <thead>\n",
              "    <tr style=\"text-align: right;\">\n",
              "      <th></th>\n",
              "      <th>ano</th>\n",
              "      <th>ementa</th>\n",
              "      <th>classe</th>\n",
              "      <th>id_prop</th>\n",
              "    </tr>\n",
              "  </thead>\n",
              "  <tbody>\n",
              "    <tr>\n",
              "      <th>596516</th>\n",
              "      <td>2011</td>\n",
              "      <td>Aplaude a Rádio Aparecida, fundada há sessenta...</td>\n",
              "      <td>favorável</td>\n",
              "      <td>1030208</td>\n",
              "    </tr>\n",
              "    <tr>\n",
              "      <th>581157</th>\n",
              "      <td>2011</td>\n",
              "      <td>Declara de utilidade pública a \"Associação Lar...</td>\n",
              "      <td>favorável</td>\n",
              "      <td>1001354</td>\n",
              "    </tr>\n",
              "    <tr>\n",
              "      <th>597377</th>\n",
              "      <td>2011</td>\n",
              "      <td>Declara de utilidade pública o \"Lions Clube Fr...</td>\n",
              "      <td>favorável</td>\n",
              "      <td>1044407</td>\n",
              "    </tr>\n",
              "    <tr>\n",
              "      <th>595474</th>\n",
              "      <td>2011</td>\n",
              "      <td>Declara de utilidade pública a \"Associação Cul...</td>\n",
              "      <td>favorável</td>\n",
              "      <td>1061311</td>\n",
              "    </tr>\n",
              "    <tr>\n",
              "      <th>618195</th>\n",
              "      <td>2011</td>\n",
              "      <td>Declara de utilidade pública o VICC - \"Voluntá...</td>\n",
              "      <td>favorável</td>\n",
              "      <td>1046129</td>\n",
              "    </tr>\n",
              "  </tbody>\n",
              "</table>\n",
              "</div>\n",
              "    <div class=\"colab-df-buttons\">\n",
              "\n",
              "  <div class=\"colab-df-container\">\n",
              "    <button class=\"colab-df-convert\" onclick=\"convertToInteractive('df-af992291-7b9b-4cca-b0ae-bbf1dd2d4845')\"\n",
              "            title=\"Convert this dataframe to an interactive table.\"\n",
              "            style=\"display:none;\">\n",
              "\n",
              "  <svg xmlns=\"http://www.w3.org/2000/svg\" height=\"24px\" viewBox=\"0 -960 960 960\">\n",
              "    <path d=\"M120-120v-720h720v720H120Zm60-500h600v-160H180v160Zm220 220h160v-160H400v160Zm0 220h160v-160H400v160ZM180-400h160v-160H180v160Zm440 0h160v-160H620v160ZM180-180h160v-160H180v160Zm440 0h160v-160H620v160Z\"/>\n",
              "  </svg>\n",
              "    </button>\n",
              "\n",
              "  <style>\n",
              "    .colab-df-container {\n",
              "      display:flex;\n",
              "      gap: 12px;\n",
              "    }\n",
              "\n",
              "    .colab-df-convert {\n",
              "      background-color: #E8F0FE;\n",
              "      border: none;\n",
              "      border-radius: 50%;\n",
              "      cursor: pointer;\n",
              "      display: none;\n",
              "      fill: #1967D2;\n",
              "      height: 32px;\n",
              "      padding: 0 0 0 0;\n",
              "      width: 32px;\n",
              "    }\n",
              "\n",
              "    .colab-df-convert:hover {\n",
              "      background-color: #E2EBFA;\n",
              "      box-shadow: 0px 1px 2px rgba(60, 64, 67, 0.3), 0px 1px 3px 1px rgba(60, 64, 67, 0.15);\n",
              "      fill: #174EA6;\n",
              "    }\n",
              "\n",
              "    .colab-df-buttons div {\n",
              "      margin-bottom: 4px;\n",
              "    }\n",
              "\n",
              "    [theme=dark] .colab-df-convert {\n",
              "      background-color: #3B4455;\n",
              "      fill: #D2E3FC;\n",
              "    }\n",
              "\n",
              "    [theme=dark] .colab-df-convert:hover {\n",
              "      background-color: #434B5C;\n",
              "      box-shadow: 0px 1px 3px 1px rgba(0, 0, 0, 0.15);\n",
              "      filter: drop-shadow(0px 1px 2px rgba(0, 0, 0, 0.3));\n",
              "      fill: #FFFFFF;\n",
              "    }\n",
              "  </style>\n",
              "\n",
              "    <script>\n",
              "      const buttonEl =\n",
              "        document.querySelector('#df-af992291-7b9b-4cca-b0ae-bbf1dd2d4845 button.colab-df-convert');\n",
              "      buttonEl.style.display =\n",
              "        google.colab.kernel.accessAllowed ? 'block' : 'none';\n",
              "\n",
              "      async function convertToInteractive(key) {\n",
              "        const element = document.querySelector('#df-af992291-7b9b-4cca-b0ae-bbf1dd2d4845');\n",
              "        const dataTable =\n",
              "          await google.colab.kernel.invokeFunction('convertToInteractive',\n",
              "                                                    [key], {});\n",
              "        if (!dataTable) return;\n",
              "\n",
              "        const docLinkHtml = 'Like what you see? Visit the ' +\n",
              "          '<a target=\"_blank\" href=https://colab.research.google.com/notebooks/data_table.ipynb>data table notebook</a>'\n",
              "          + ' to learn more about interactive tables.';\n",
              "        element.innerHTML = '';\n",
              "        dataTable['output_type'] = 'display_data';\n",
              "        await google.colab.output.renderOutput(dataTable, element);\n",
              "        const docLink = document.createElement('div');\n",
              "        docLink.innerHTML = docLinkHtml;\n",
              "        element.appendChild(docLink);\n",
              "      }\n",
              "    </script>\n",
              "  </div>\n",
              "\n",
              "\n",
              "<div id=\"df-3414ada1-d61d-4230-94a7-766dabb87633\">\n",
              "  <button class=\"colab-df-quickchart\" onclick=\"quickchart('df-3414ada1-d61d-4230-94a7-766dabb87633')\"\n",
              "            title=\"Suggest charts\"\n",
              "            style=\"display:none;\">\n",
              "\n",
              "<svg xmlns=\"http://www.w3.org/2000/svg\" height=\"24px\"viewBox=\"0 0 24 24\"\n",
              "     width=\"24px\">\n",
              "    <g>\n",
              "        <path d=\"M19 3H5c-1.1 0-2 .9-2 2v14c0 1.1.9 2 2 2h14c1.1 0 2-.9 2-2V5c0-1.1-.9-2-2-2zM9 17H7v-7h2v7zm4 0h-2V7h2v10zm4 0h-2v-4h2v4z\"/>\n",
              "    </g>\n",
              "</svg>\n",
              "  </button>\n",
              "\n",
              "<style>\n",
              "  .colab-df-quickchart {\n",
              "      --bg-color: #E8F0FE;\n",
              "      --fill-color: #1967D2;\n",
              "      --hover-bg-color: #E2EBFA;\n",
              "      --hover-fill-color: #174EA6;\n",
              "      --disabled-fill-color: #AAA;\n",
              "      --disabled-bg-color: #DDD;\n",
              "  }\n",
              "\n",
              "  [theme=dark] .colab-df-quickchart {\n",
              "      --bg-color: #3B4455;\n",
              "      --fill-color: #D2E3FC;\n",
              "      --hover-bg-color: #434B5C;\n",
              "      --hover-fill-color: #FFFFFF;\n",
              "      --disabled-bg-color: #3B4455;\n",
              "      --disabled-fill-color: #666;\n",
              "  }\n",
              "\n",
              "  .colab-df-quickchart {\n",
              "    background-color: var(--bg-color);\n",
              "    border: none;\n",
              "    border-radius: 50%;\n",
              "    cursor: pointer;\n",
              "    display: none;\n",
              "    fill: var(--fill-color);\n",
              "    height: 32px;\n",
              "    padding: 0;\n",
              "    width: 32px;\n",
              "  }\n",
              "\n",
              "  .colab-df-quickchart:hover {\n",
              "    background-color: var(--hover-bg-color);\n",
              "    box-shadow: 0 1px 2px rgba(60, 64, 67, 0.3), 0 1px 3px 1px rgba(60, 64, 67, 0.15);\n",
              "    fill: var(--button-hover-fill-color);\n",
              "  }\n",
              "\n",
              "  .colab-df-quickchart-complete:disabled,\n",
              "  .colab-df-quickchart-complete:disabled:hover {\n",
              "    background-color: var(--disabled-bg-color);\n",
              "    fill: var(--disabled-fill-color);\n",
              "    box-shadow: none;\n",
              "  }\n",
              "\n",
              "  .colab-df-spinner {\n",
              "    border: 2px solid var(--fill-color);\n",
              "    border-color: transparent;\n",
              "    border-bottom-color: var(--fill-color);\n",
              "    animation:\n",
              "      spin 1s steps(1) infinite;\n",
              "  }\n",
              "\n",
              "  @keyframes spin {\n",
              "    0% {\n",
              "      border-color: transparent;\n",
              "      border-bottom-color: var(--fill-color);\n",
              "      border-left-color: var(--fill-color);\n",
              "    }\n",
              "    20% {\n",
              "      border-color: transparent;\n",
              "      border-left-color: var(--fill-color);\n",
              "      border-top-color: var(--fill-color);\n",
              "    }\n",
              "    30% {\n",
              "      border-color: transparent;\n",
              "      border-left-color: var(--fill-color);\n",
              "      border-top-color: var(--fill-color);\n",
              "      border-right-color: var(--fill-color);\n",
              "    }\n",
              "    40% {\n",
              "      border-color: transparent;\n",
              "      border-right-color: var(--fill-color);\n",
              "      border-top-color: var(--fill-color);\n",
              "    }\n",
              "    60% {\n",
              "      border-color: transparent;\n",
              "      border-right-color: var(--fill-color);\n",
              "    }\n",
              "    80% {\n",
              "      border-color: transparent;\n",
              "      border-right-color: var(--fill-color);\n",
              "      border-bottom-color: var(--fill-color);\n",
              "    }\n",
              "    90% {\n",
              "      border-color: transparent;\n",
              "      border-bottom-color: var(--fill-color);\n",
              "    }\n",
              "  }\n",
              "</style>\n",
              "\n",
              "  <script>\n",
              "    async function quickchart(key) {\n",
              "      const quickchartButtonEl =\n",
              "        document.querySelector('#' + key + ' button');\n",
              "      quickchartButtonEl.disabled = true;  // To prevent multiple clicks.\n",
              "      quickchartButtonEl.classList.add('colab-df-spinner');\n",
              "      try {\n",
              "        const charts = await google.colab.kernel.invokeFunction(\n",
              "            'suggestCharts', [key], {});\n",
              "      } catch (error) {\n",
              "        console.error('Error during call to suggestCharts:', error);\n",
              "      }\n",
              "      quickchartButtonEl.classList.remove('colab-df-spinner');\n",
              "      quickchartButtonEl.classList.add('colab-df-quickchart-complete');\n",
              "    }\n",
              "    (() => {\n",
              "      let quickchartButtonEl =\n",
              "        document.querySelector('#df-3414ada1-d61d-4230-94a7-766dabb87633 button');\n",
              "      quickchartButtonEl.style.display =\n",
              "        google.colab.kernel.accessAllowed ? 'block' : 'none';\n",
              "    })();\n",
              "  </script>\n",
              "</div>\n",
              "    </div>\n",
              "  </div>\n"
            ]
          },
          "metadata": {},
          "execution_count": 82
        }
      ]
    },
    {
      "cell_type": "markdown",
      "source": [
        "## Perceptron: o neurônio artificial\n",
        "\n",
        "Vamos começar investigando um modelo mais \"simples\". O Perceptron se baseia em um modelo simplificado do funcionamento de um neurônio humano, que recebe impulsos elétricos pelos dendritos, os processa no corpo celular e emite novos impulsos para outros neurônios através do axônio.\n",
        "\n",
        "Um Perceptron simula esse comportamento recebendo como entrada um vetor de números reais. Cada valor do vetor é multiplicado por um \"peso\", também chamado de \"parâmetro\", de forma que cada valor da entrada contribui em quantidades diferentes para a resposta final. Esse processo simula o recebimento de impulsos no neurônio pelos dendritos.\n",
        "\n",
        "A parte do corpo celular é feita somando todos os valores dos nossos \"dendritos\", combinando esse resultado em um numero único. Esses resultados são somados também a um valor estático, chamado **viés** ou *bias*.\n",
        "\n",
        "Por fim, a soma é passada como entrada por uma **função de ativação**, que determina a \"força\" do impulso de saída a partir do valor calculado. Isso é feito pois é normal que o valor de saída de um Perceptron seja limitado entre 0 e 1.\n",
        "\n",
        "Mas como são determinados os valores dos pesos? Eles são determinados através de um processo de **treinamento** ou **aprendizagem**, na qual o Perceptron recebe uma série de dados de entrada, que são avaliados com os pesos atuais e ajustados conforme o **erro** (*loss*) em relação ao valor correto."
      ],
      "metadata": {
        "id": "h8GtNcuIWDNR"
      }
    },
    {
      "cell_type": "markdown",
      "source": [
        "### Teste\n",
        "\n",
        "É hora de finalmente mensurarmos a qualidade do modelo que treinamos. Pelo gráfico acima, podemos ver que a época `14` teve bom desempenho na validação, obtendo um *score* médio de `0.8`, enquanto avançou bastante no treinamento.\n",
        "\n",
        "> Embora épocas anteriores tenham obtido pontuações semelhantes, o modelo ainda não é capaz de generalizar muito bem, e pelos testes que fizemos, simplesmente nunca escolhe a classe `1` como resposta.\n",
        "\n",
        "Vamos escolher esse como nosso modelo final, e testá-lo com outro conjunto de entradas que ele nunca viu antes. Os resultados da classificação podem ser obtidos com o método `predict`.\n",
        "\n",
        "Por fim, pedimos ao Scikit-learn que gere um relatório dos resultados obtidos com a função `classification_report`."
      ],
      "metadata": {
        "id": "FLjbcDP2HR5_"
      }
    },
    {
      "cell_type": "markdown",
      "source": [
        "A principal métrica em que estamos interessados é a **acurácia** (*accuracy*), que indica quantas vezes o modelo acertou sua classificação dividido pela quantidade de entradas que foram classificadas. Pelo relatório, podemos ver que nosso modelo obteve uma acurácia de `0.87`, ou seja, acertou 87% das classificações que fez!"
      ],
      "metadata": {
        "id": "nvAPPfJRJGRs"
      }
    },
    {
      "cell_type": "markdown",
      "source": [
        "## NLP - Processamento de Linguagem Natural\n",
        "\n",
        "*Natural Language Processing* (NLP) é o conjunto de técnicas de IA capazes de fazer inferências sobre texto criado por e para seres humanos, que em geral é mais complicado de ser processado por computadores.\n",
        "\n",
        "Nesse exercício, vamos fazer a análise de proposituras da Assembleia Legislativa do Estado de São Paulo. A partir de um documento com o texto das ementas das mesmas, e o parecer de cada uma, vamos extrair um vetor numérico de características (um *embedding*) que pode ser classificado usando uma rede neural. Ou seja, vamos prever o parecer de uma propositura apenas pela sua ementa!\n",
        "\n",
        "Primeiramente, vamos visualizar nossos dados:"
      ],
      "metadata": {
        "id": "L1OzNhbSVW-2"
      }
    },
    {
      "cell_type": "code",
      "source": [
        "df[['ementa', 'classe']]"
      ],
      "metadata": {
        "id": "Aw-v9KPIDfkX",
        "colab": {
          "base_uri": "https://localhost:8080/",
          "height": 423
        },
        "outputId": "65609fff-eb1e-4bcd-e29a-e3c802e1bc90"
      },
      "execution_count": null,
      "outputs": [
        {
          "output_type": "execute_result",
          "data": {
            "text/plain": [
              "                                                   ementa     classe\n",
              "548585  Declara de utilidade pública a \"Sociedade Unid...  favorável\n",
              "605895  Apela para os Srs. Presidentes da Câmara dos D...  favorável\n",
              "581531  Declara de utilidade pública a \"Organização Nã...  favorável\n",
              "612505  Declara de utilidade pública a \"Casa de Apoio ...  favorável\n",
              "582915  Apela para a Sra. Presidente da República para...  favorável\n",
              "...                                                   ...        ...\n",
              "631651  Altera o § 1º do artigo 112 da Resolução nº 57...  contrário\n",
              "632407  Denomina \"Joseph Safra\" a Rodovia SP 160, que ...  contrário\n",
              "632811  Assegura a gratuidade de tarifa no sistema de ...  contrário\n",
              "632846  Altera a Lei Complementar nº 1.291, de 22 de j...  contrário\n",
              "633211  Estabelece normas sobre arbitragem em competiç...  contrário\n",
              "\n",
              "[412 rows x 2 columns]"
            ],
            "text/html": [
              "\n",
              "  <div id=\"df-880a9d1f-8ef0-49c2-a0fa-a28d90f68695\" class=\"colab-df-container\">\n",
              "    <div>\n",
              "<style scoped>\n",
              "    .dataframe tbody tr th:only-of-type {\n",
              "        vertical-align: middle;\n",
              "    }\n",
              "\n",
              "    .dataframe tbody tr th {\n",
              "        vertical-align: top;\n",
              "    }\n",
              "\n",
              "    .dataframe thead th {\n",
              "        text-align: right;\n",
              "    }\n",
              "</style>\n",
              "<table border=\"1\" class=\"dataframe\">\n",
              "  <thead>\n",
              "    <tr style=\"text-align: right;\">\n",
              "      <th></th>\n",
              "      <th>ementa</th>\n",
              "      <th>classe</th>\n",
              "    </tr>\n",
              "  </thead>\n",
              "  <tbody>\n",
              "    <tr>\n",
              "      <th>548585</th>\n",
              "      <td>Declara de utilidade pública a \"Sociedade Unid...</td>\n",
              "      <td>favorável</td>\n",
              "    </tr>\n",
              "    <tr>\n",
              "      <th>605895</th>\n",
              "      <td>Apela para os Srs. Presidentes da Câmara dos D...</td>\n",
              "      <td>favorável</td>\n",
              "    </tr>\n",
              "    <tr>\n",
              "      <th>581531</th>\n",
              "      <td>Declara de utilidade pública a \"Organização Nã...</td>\n",
              "      <td>favorável</td>\n",
              "    </tr>\n",
              "    <tr>\n",
              "      <th>612505</th>\n",
              "      <td>Declara de utilidade pública a \"Casa de Apoio ...</td>\n",
              "      <td>favorável</td>\n",
              "    </tr>\n",
              "    <tr>\n",
              "      <th>582915</th>\n",
              "      <td>Apela para a Sra. Presidente da República para...</td>\n",
              "      <td>favorável</td>\n",
              "    </tr>\n",
              "    <tr>\n",
              "      <th>...</th>\n",
              "      <td>...</td>\n",
              "      <td>...</td>\n",
              "    </tr>\n",
              "    <tr>\n",
              "      <th>631651</th>\n",
              "      <td>Altera o § 1º do artigo 112 da Resolução nº 57...</td>\n",
              "      <td>contrário</td>\n",
              "    </tr>\n",
              "    <tr>\n",
              "      <th>632407</th>\n",
              "      <td>Denomina \"Joseph Safra\" a Rodovia SP 160, que ...</td>\n",
              "      <td>contrário</td>\n",
              "    </tr>\n",
              "    <tr>\n",
              "      <th>632811</th>\n",
              "      <td>Assegura a gratuidade de tarifa no sistema de ...</td>\n",
              "      <td>contrário</td>\n",
              "    </tr>\n",
              "    <tr>\n",
              "      <th>632846</th>\n",
              "      <td>Altera a Lei Complementar nº 1.291, de 22 de j...</td>\n",
              "      <td>contrário</td>\n",
              "    </tr>\n",
              "    <tr>\n",
              "      <th>633211</th>\n",
              "      <td>Estabelece normas sobre arbitragem em competiç...</td>\n",
              "      <td>contrário</td>\n",
              "    </tr>\n",
              "  </tbody>\n",
              "</table>\n",
              "<p>412 rows × 2 columns</p>\n",
              "</div>\n",
              "    <div class=\"colab-df-buttons\">\n",
              "\n",
              "  <div class=\"colab-df-container\">\n",
              "    <button class=\"colab-df-convert\" onclick=\"convertToInteractive('df-880a9d1f-8ef0-49c2-a0fa-a28d90f68695')\"\n",
              "            title=\"Convert this dataframe to an interactive table.\"\n",
              "            style=\"display:none;\">\n",
              "\n",
              "  <svg xmlns=\"http://www.w3.org/2000/svg\" height=\"24px\" viewBox=\"0 -960 960 960\">\n",
              "    <path d=\"M120-120v-720h720v720H120Zm60-500h600v-160H180v160Zm220 220h160v-160H400v160Zm0 220h160v-160H400v160ZM180-400h160v-160H180v160Zm440 0h160v-160H620v160ZM180-180h160v-160H180v160Zm440 0h160v-160H620v160Z\"/>\n",
              "  </svg>\n",
              "    </button>\n",
              "\n",
              "  <style>\n",
              "    .colab-df-container {\n",
              "      display:flex;\n",
              "      gap: 12px;\n",
              "    }\n",
              "\n",
              "    .colab-df-convert {\n",
              "      background-color: #E8F0FE;\n",
              "      border: none;\n",
              "      border-radius: 50%;\n",
              "      cursor: pointer;\n",
              "      display: none;\n",
              "      fill: #1967D2;\n",
              "      height: 32px;\n",
              "      padding: 0 0 0 0;\n",
              "      width: 32px;\n",
              "    }\n",
              "\n",
              "    .colab-df-convert:hover {\n",
              "      background-color: #E2EBFA;\n",
              "      box-shadow: 0px 1px 2px rgba(60, 64, 67, 0.3), 0px 1px 3px 1px rgba(60, 64, 67, 0.15);\n",
              "      fill: #174EA6;\n",
              "    }\n",
              "\n",
              "    .colab-df-buttons div {\n",
              "      margin-bottom: 4px;\n",
              "    }\n",
              "\n",
              "    [theme=dark] .colab-df-convert {\n",
              "      background-color: #3B4455;\n",
              "      fill: #D2E3FC;\n",
              "    }\n",
              "\n",
              "    [theme=dark] .colab-df-convert:hover {\n",
              "      background-color: #434B5C;\n",
              "      box-shadow: 0px 1px 3px 1px rgba(0, 0, 0, 0.15);\n",
              "      filter: drop-shadow(0px 1px 2px rgba(0, 0, 0, 0.3));\n",
              "      fill: #FFFFFF;\n",
              "    }\n",
              "  </style>\n",
              "\n",
              "    <script>\n",
              "      const buttonEl =\n",
              "        document.querySelector('#df-880a9d1f-8ef0-49c2-a0fa-a28d90f68695 button.colab-df-convert');\n",
              "      buttonEl.style.display =\n",
              "        google.colab.kernel.accessAllowed ? 'block' : 'none';\n",
              "\n",
              "      async function convertToInteractive(key) {\n",
              "        const element = document.querySelector('#df-880a9d1f-8ef0-49c2-a0fa-a28d90f68695');\n",
              "        const dataTable =\n",
              "          await google.colab.kernel.invokeFunction('convertToInteractive',\n",
              "                                                    [key], {});\n",
              "        if (!dataTable) return;\n",
              "\n",
              "        const docLinkHtml = 'Like what you see? Visit the ' +\n",
              "          '<a target=\"_blank\" href=https://colab.research.google.com/notebooks/data_table.ipynb>data table notebook</a>'\n",
              "          + ' to learn more about interactive tables.';\n",
              "        element.innerHTML = '';\n",
              "        dataTable['output_type'] = 'display_data';\n",
              "        await google.colab.output.renderOutput(dataTable, element);\n",
              "        const docLink = document.createElement('div');\n",
              "        docLink.innerHTML = docLinkHtml;\n",
              "        element.appendChild(docLink);\n",
              "      }\n",
              "    </script>\n",
              "  </div>\n",
              "\n",
              "\n",
              "<div id=\"df-8fdc1858-69c7-4ae4-a668-d7cb36b52625\">\n",
              "  <button class=\"colab-df-quickchart\" onclick=\"quickchart('df-8fdc1858-69c7-4ae4-a668-d7cb36b52625')\"\n",
              "            title=\"Suggest charts\"\n",
              "            style=\"display:none;\">\n",
              "\n",
              "<svg xmlns=\"http://www.w3.org/2000/svg\" height=\"24px\"viewBox=\"0 0 24 24\"\n",
              "     width=\"24px\">\n",
              "    <g>\n",
              "        <path d=\"M19 3H5c-1.1 0-2 .9-2 2v14c0 1.1.9 2 2 2h14c1.1 0 2-.9 2-2V5c0-1.1-.9-2-2-2zM9 17H7v-7h2v7zm4 0h-2V7h2v10zm4 0h-2v-4h2v4z\"/>\n",
              "    </g>\n",
              "</svg>\n",
              "  </button>\n",
              "\n",
              "<style>\n",
              "  .colab-df-quickchart {\n",
              "      --bg-color: #E8F0FE;\n",
              "      --fill-color: #1967D2;\n",
              "      --hover-bg-color: #E2EBFA;\n",
              "      --hover-fill-color: #174EA6;\n",
              "      --disabled-fill-color: #AAA;\n",
              "      --disabled-bg-color: #DDD;\n",
              "  }\n",
              "\n",
              "  [theme=dark] .colab-df-quickchart {\n",
              "      --bg-color: #3B4455;\n",
              "      --fill-color: #D2E3FC;\n",
              "      --hover-bg-color: #434B5C;\n",
              "      --hover-fill-color: #FFFFFF;\n",
              "      --disabled-bg-color: #3B4455;\n",
              "      --disabled-fill-color: #666;\n",
              "  }\n",
              "\n",
              "  .colab-df-quickchart {\n",
              "    background-color: var(--bg-color);\n",
              "    border: none;\n",
              "    border-radius: 50%;\n",
              "    cursor: pointer;\n",
              "    display: none;\n",
              "    fill: var(--fill-color);\n",
              "    height: 32px;\n",
              "    padding: 0;\n",
              "    width: 32px;\n",
              "  }\n",
              "\n",
              "  .colab-df-quickchart:hover {\n",
              "    background-color: var(--hover-bg-color);\n",
              "    box-shadow: 0 1px 2px rgba(60, 64, 67, 0.3), 0 1px 3px 1px rgba(60, 64, 67, 0.15);\n",
              "    fill: var(--button-hover-fill-color);\n",
              "  }\n",
              "\n",
              "  .colab-df-quickchart-complete:disabled,\n",
              "  .colab-df-quickchart-complete:disabled:hover {\n",
              "    background-color: var(--disabled-bg-color);\n",
              "    fill: var(--disabled-fill-color);\n",
              "    box-shadow: none;\n",
              "  }\n",
              "\n",
              "  .colab-df-spinner {\n",
              "    border: 2px solid var(--fill-color);\n",
              "    border-color: transparent;\n",
              "    border-bottom-color: var(--fill-color);\n",
              "    animation:\n",
              "      spin 1s steps(1) infinite;\n",
              "  }\n",
              "\n",
              "  @keyframes spin {\n",
              "    0% {\n",
              "      border-color: transparent;\n",
              "      border-bottom-color: var(--fill-color);\n",
              "      border-left-color: var(--fill-color);\n",
              "    }\n",
              "    20% {\n",
              "      border-color: transparent;\n",
              "      border-left-color: var(--fill-color);\n",
              "      border-top-color: var(--fill-color);\n",
              "    }\n",
              "    30% {\n",
              "      border-color: transparent;\n",
              "      border-left-color: var(--fill-color);\n",
              "      border-top-color: var(--fill-color);\n",
              "      border-right-color: var(--fill-color);\n",
              "    }\n",
              "    40% {\n",
              "      border-color: transparent;\n",
              "      border-right-color: var(--fill-color);\n",
              "      border-top-color: var(--fill-color);\n",
              "    }\n",
              "    60% {\n",
              "      border-color: transparent;\n",
              "      border-right-color: var(--fill-color);\n",
              "    }\n",
              "    80% {\n",
              "      border-color: transparent;\n",
              "      border-right-color: var(--fill-color);\n",
              "      border-bottom-color: var(--fill-color);\n",
              "    }\n",
              "    90% {\n",
              "      border-color: transparent;\n",
              "      border-bottom-color: var(--fill-color);\n",
              "    }\n",
              "  }\n",
              "</style>\n",
              "\n",
              "  <script>\n",
              "    async function quickchart(key) {\n",
              "      const quickchartButtonEl =\n",
              "        document.querySelector('#' + key + ' button');\n",
              "      quickchartButtonEl.disabled = true;  // To prevent multiple clicks.\n",
              "      quickchartButtonEl.classList.add('colab-df-spinner');\n",
              "      try {\n",
              "        const charts = await google.colab.kernel.invokeFunction(\n",
              "            'suggestCharts', [key], {});\n",
              "      } catch (error) {\n",
              "        console.error('Error during call to suggestCharts:', error);\n",
              "      }\n",
              "      quickchartButtonEl.classList.remove('colab-df-spinner');\n",
              "      quickchartButtonEl.classList.add('colab-df-quickchart-complete');\n",
              "    }\n",
              "    (() => {\n",
              "      let quickchartButtonEl =\n",
              "        document.querySelector('#df-8fdc1858-69c7-4ae4-a668-d7cb36b52625 button');\n",
              "      quickchartButtonEl.style.display =\n",
              "        google.colab.kernel.accessAllowed ? 'block' : 'none';\n",
              "    })();\n",
              "  </script>\n",
              "</div>\n",
              "    </div>\n",
              "  </div>\n"
            ]
          },
          "metadata": {},
          "execution_count": 110
        }
      ]
    },
    {
      "cell_type": "markdown",
      "source": [
        "Vamos também separar as ementas das classes, para terminarmos a etapa de pré-processamento."
      ],
      "metadata": {
        "id": "ecUzjZKicn3j"
      }
    },
    {
      "cell_type": "code",
      "source": [
        "X_pre = df['ementa']\n",
        "y_pre = df['classe']"
      ],
      "metadata": {
        "id": "LoObqqZIed4X"
      },
      "execution_count": null,
      "outputs": []
    },
    {
      "cell_type": "markdown",
      "source": [
        "Como o classificador precisa que as classes sejam números, vamos usar a classe `LabelEncoder` do Scikit-learn para transformar as nossas categorias em valores numéricos"
      ],
      "metadata": {
        "id": "k7Rw49rbcweF"
      }
    },
    {
      "cell_type": "code",
      "source": [
        "label_encoder = LabelEncoder()\n",
        "\n",
        "y = label_encoder.fit_transform(y_pre)"
      ],
      "metadata": {
        "id": "oACuR7f2adiJ"
      },
      "execution_count": null,
      "outputs": []
    },
    {
      "cell_type": "markdown",
      "source": [
        "### Embeddings\n",
        "\n",
        "*Word embeddings* são os métodos usados para transformar palavras e frases em vetores numéricos. A ideia é que palavras com significados semelhantes dentro de determinado contexto devem gerar vetores próximos, enquanto palavras muito diferentes devem gerar vetores bastante distantes."
      ],
      "metadata": {
        "id": "78jqnckO9H6-"
      }
    },
    {
      "cell_type": "markdown",
      "source": [
        "### TF-IDF\n",
        "\n",
        "*Term frequency/Inverse document frequency* (TF-IDF) é uma técnica de extração de características de texto natural puramente estatísitica, que cria uma representação em vetores numéricos pelas frequências em que as palavras são utilizadas num texto.\n",
        "\n",
        "No nosso exemplo, vamos usar a classe `WordNetLemmatizer` da bibioteca nltk e a classe `TfidfVectorizer` do Scikit-learn para obter representações vetorizadas das ementas da ALESP."
      ],
      "metadata": {
        "id": "ya-UOEkz9ZFO"
      }
    },
    {
      "cell_type": "code",
      "source": [
        "lemmatizer = WordNetLemmatizer()\n",
        "tfidf_vectorizer = TfidfVectorizer()\n",
        "\n",
        "descriptions_lemmatized = [\" \".join([lemmatizer.lemmatize(token.lower()) for token in word_tokenize(description)]) for description in X_pre.values ]\n",
        "descriptions_representation_tfidf = tfidf_vectorizer.fit_transform(descriptions_lemmatized)\n",
        "\n",
        "X = descriptions_representation_tfidf"
      ],
      "metadata": {
        "id": "GfreigYe9U-G"
      },
      "execution_count": null,
      "outputs": []
    },
    {
      "cell_type": "markdown",
      "source": [
        "Vamos ver como ficou o formato da nossa base de dados após o pré-processamento:"
      ],
      "metadata": {
        "id": "8OrM20Mh725E"
      }
    },
    {
      "cell_type": "code",
      "source": [
        "for i in range(5):\n",
        "  print(X.toarray()[i], y[i])"
      ],
      "metadata": {
        "id": "IvCj-F1OX_mU",
        "colab": {
          "base_uri": "https://localhost:8080/"
        },
        "outputId": "f606e7de-f6a4-410c-f8b9-89acb7531f1e"
      },
      "execution_count": null,
      "outputs": [
        {
          "output_type": "stream",
          "name": "stdout",
          "text": [
            "[0. 0. 0. ... 0. 0. 0.] 1\n",
            "[0. 0. 0. ... 0. 0. 0.] 1\n",
            "[0. 0. 0. ... 0. 0. 0.] 1\n",
            "[0. 0. 0. ... 0. 0. 0.] 1\n",
            "[0. 0. 0. ... 0. 0. 0.] 1\n"
          ]
        }
      ]
    },
    {
      "cell_type": "markdown",
      "source": [
        "## MLP: uma Rede Neural\n",
        "\n",
        "Até agora, vimos apenas como fazer classificações com apenas um neurônio artificial. No entanto, há um limite para o processamento que apenas um neurônio pode realizar. Por isso, cérebros são compostos por vários neurônios em contato uns com os outros, processando e reprocessando os impulsos uns dos outros.\n",
        "\n",
        "Podemos replicar algo parecido usando um classificador conhecido como *Multi-layer Perceptron* (MLP). Aqui, a ideia é organizar vários perceptrons em camadas, de forma que cada uma possa processar um \"aspecto\" diferente do problema em sequência.\n",
        "\n",
        "Vamos utilizar a classe `MLPClassifier` do Scikit-learn para invocar um MLP e ajustar seus parâmetros. A divisão da base será feita apenas em treinamento e teste pois agora deixaremos a biblioteca fazer a validação automaticamente usando o hiperparâmetro `early_stopping=True`."
      ],
      "metadata": {
        "id": "kMQPt9gffjMS"
      }
    },
    {
      "cell_type": "code",
      "source": [
        "# Divida os dados em conjuntos de treinamento e teste (80% - 20%)\n",
        "X_train, X_test, y_train, y_test = train_test_split(\n",
        "  X, y,\n",
        "  test_size=0.2,\n",
        "  random_state=42\n",
        ")\n",
        "\n",
        "# Crie uma instância do MLPClassifier\n",
        "mlp = MLPClassifier(\n",
        "  early_stopping=True,\n",
        "  activation='logistic',\n",
        "  max_iter=500,\n",
        "  random_state=42,\n",
        "  verbose=True\n",
        ")\n",
        "\n",
        "# Treine no conjunto de treinamento\n",
        "mlp.fit(X_train, y_train)"
      ],
      "metadata": {
        "id": "JV-U7EkQZ0Do",
        "colab": {
          "base_uri": "https://localhost:8080/",
          "height": 1000
        },
        "outputId": "82048754-33f7-4259-85d6-00f2b9a41072"
      },
      "execution_count": null,
      "outputs": [
        {
          "output_type": "stream",
          "name": "stdout",
          "text": [
            "Iteration 1, loss = 0.69326520\n",
            "Validation score: 0.515152\n",
            "Iteration 2, loss = 0.68986719\n",
            "Validation score: 0.515152\n",
            "Iteration 3, loss = 0.68575522\n",
            "Validation score: 0.545455\n",
            "Iteration 4, loss = 0.68265716\n",
            "Validation score: 0.727273\n",
            "Iteration 5, loss = 0.67924887\n",
            "Validation score: 0.727273\n",
            "Iteration 6, loss = 0.67584939\n",
            "Validation score: 0.666667\n",
            "Iteration 7, loss = 0.67247779\n",
            "Validation score: 0.696970\n",
            "Iteration 8, loss = 0.66911839\n",
            "Validation score: 0.636364\n",
            "Iteration 9, loss = 0.66569606\n",
            "Validation score: 0.636364\n",
            "Iteration 10, loss = 0.66228111\n",
            "Validation score: 0.696970\n",
            "Iteration 11, loss = 0.65896113\n",
            "Validation score: 0.696970\n",
            "Iteration 12, loss = 0.65558582\n",
            "Validation score: 0.757576\n",
            "Iteration 13, loss = 0.65177221\n",
            "Validation score: 0.848485\n",
            "Iteration 14, loss = 0.64809812\n",
            "Validation score: 0.848485\n",
            "Iteration 15, loss = 0.64456283\n",
            "Validation score: 0.848485\n",
            "Iteration 16, loss = 0.64093169\n",
            "Validation score: 0.848485\n",
            "Iteration 17, loss = 0.63715925\n",
            "Validation score: 0.848485\n",
            "Iteration 18, loss = 0.63320596\n",
            "Validation score: 0.848485\n",
            "Iteration 19, loss = 0.62949043\n",
            "Validation score: 0.818182\n",
            "Iteration 20, loss = 0.62567131\n",
            "Validation score: 0.818182\n",
            "Iteration 21, loss = 0.62162803\n",
            "Validation score: 0.818182\n",
            "Iteration 22, loss = 0.61742547\n",
            "Validation score: 0.848485\n",
            "Iteration 23, loss = 0.61356432\n",
            "Validation score: 0.848485\n",
            "Iteration 24, loss = 0.60875979\n",
            "Validation score: 0.878788\n",
            "Iteration 25, loss = 0.60436116\n",
            "Validation score: 0.878788\n",
            "Iteration 26, loss = 0.59984612\n",
            "Validation score: 0.878788\n",
            "Iteration 27, loss = 0.59545309\n",
            "Validation score: 0.848485\n",
            "Iteration 28, loss = 0.59074224\n",
            "Validation score: 0.848485\n",
            "Iteration 29, loss = 0.58593937\n",
            "Validation score: 0.848485\n",
            "Iteration 30, loss = 0.58112527\n",
            "Validation score: 0.848485\n",
            "Iteration 31, loss = 0.57617824\n",
            "Validation score: 0.848485\n",
            "Iteration 32, loss = 0.57133014\n",
            "Validation score: 0.848485\n",
            "Iteration 33, loss = 0.56606625\n",
            "Validation score: 0.848485\n",
            "Iteration 34, loss = 0.56072620\n",
            "Validation score: 0.878788\n",
            "Iteration 35, loss = 0.55533183\n",
            "Validation score: 0.878788\n",
            "Validation score did not improve more than tol=0.000100 for 10 consecutive epochs. Stopping.\n"
          ]
        },
        {
          "output_type": "execute_result",
          "data": {
            "text/plain": [
              "MLPClassifier(activation='logistic', early_stopping=True, max_iter=500,\n",
              "              random_state=42, verbose=True)"
            ],
            "text/html": [
              "<style>#sk-container-id-2 {color: black;background-color: white;}#sk-container-id-2 pre{padding: 0;}#sk-container-id-2 div.sk-toggleable {background-color: white;}#sk-container-id-2 label.sk-toggleable__label {cursor: pointer;display: block;width: 100%;margin-bottom: 0;padding: 0.3em;box-sizing: border-box;text-align: center;}#sk-container-id-2 label.sk-toggleable__label-arrow:before {content: \"▸\";float: left;margin-right: 0.25em;color: #696969;}#sk-container-id-2 label.sk-toggleable__label-arrow:hover:before {color: black;}#sk-container-id-2 div.sk-estimator:hover label.sk-toggleable__label-arrow:before {color: black;}#sk-container-id-2 div.sk-toggleable__content {max-height: 0;max-width: 0;overflow: hidden;text-align: left;background-color: #f0f8ff;}#sk-container-id-2 div.sk-toggleable__content pre {margin: 0.2em;color: black;border-radius: 0.25em;background-color: #f0f8ff;}#sk-container-id-2 input.sk-toggleable__control:checked~div.sk-toggleable__content {max-height: 200px;max-width: 100%;overflow: auto;}#sk-container-id-2 input.sk-toggleable__control:checked~label.sk-toggleable__label-arrow:before {content: \"▾\";}#sk-container-id-2 div.sk-estimator input.sk-toggleable__control:checked~label.sk-toggleable__label {background-color: #d4ebff;}#sk-container-id-2 div.sk-label input.sk-toggleable__control:checked~label.sk-toggleable__label {background-color: #d4ebff;}#sk-container-id-2 input.sk-hidden--visually {border: 0;clip: rect(1px 1px 1px 1px);clip: rect(1px, 1px, 1px, 1px);height: 1px;margin: -1px;overflow: hidden;padding: 0;position: absolute;width: 1px;}#sk-container-id-2 div.sk-estimator {font-family: monospace;background-color: #f0f8ff;border: 1px dotted black;border-radius: 0.25em;box-sizing: border-box;margin-bottom: 0.5em;}#sk-container-id-2 div.sk-estimator:hover {background-color: #d4ebff;}#sk-container-id-2 div.sk-parallel-item::after {content: \"\";width: 100%;border-bottom: 1px solid gray;flex-grow: 1;}#sk-container-id-2 div.sk-label:hover label.sk-toggleable__label {background-color: #d4ebff;}#sk-container-id-2 div.sk-serial::before {content: \"\";position: absolute;border-left: 1px solid gray;box-sizing: border-box;top: 0;bottom: 0;left: 50%;z-index: 0;}#sk-container-id-2 div.sk-serial {display: flex;flex-direction: column;align-items: center;background-color: white;padding-right: 0.2em;padding-left: 0.2em;position: relative;}#sk-container-id-2 div.sk-item {position: relative;z-index: 1;}#sk-container-id-2 div.sk-parallel {display: flex;align-items: stretch;justify-content: center;background-color: white;position: relative;}#sk-container-id-2 div.sk-item::before, #sk-container-id-2 div.sk-parallel-item::before {content: \"\";position: absolute;border-left: 1px solid gray;box-sizing: border-box;top: 0;bottom: 0;left: 50%;z-index: -1;}#sk-container-id-2 div.sk-parallel-item {display: flex;flex-direction: column;z-index: 1;position: relative;background-color: white;}#sk-container-id-2 div.sk-parallel-item:first-child::after {align-self: flex-end;width: 50%;}#sk-container-id-2 div.sk-parallel-item:last-child::after {align-self: flex-start;width: 50%;}#sk-container-id-2 div.sk-parallel-item:only-child::after {width: 0;}#sk-container-id-2 div.sk-dashed-wrapped {border: 1px dashed gray;margin: 0 0.4em 0.5em 0.4em;box-sizing: border-box;padding-bottom: 0.4em;background-color: white;}#sk-container-id-2 div.sk-label label {font-family: monospace;font-weight: bold;display: inline-block;line-height: 1.2em;}#sk-container-id-2 div.sk-label-container {text-align: center;}#sk-container-id-2 div.sk-container {/* jupyter's `normalize.less` sets `[hidden] { display: none; }` but bootstrap.min.css set `[hidden] { display: none !important; }` so we also need the `!important` here to be able to override the default hidden behavior on the sphinx rendered scikit-learn.org. See: https://github.com/scikit-learn/scikit-learn/issues/21755 */display: inline-block !important;position: relative;}#sk-container-id-2 div.sk-text-repr-fallback {display: none;}</style><div id=\"sk-container-id-2\" class=\"sk-top-container\"><div class=\"sk-text-repr-fallback\"><pre>MLPClassifier(activation=&#x27;logistic&#x27;, early_stopping=True, max_iter=500,\n",
              "              random_state=42, verbose=True)</pre><b>In a Jupyter environment, please rerun this cell to show the HTML representation or trust the notebook. <br />On GitHub, the HTML representation is unable to render, please try loading this page with nbviewer.org.</b></div><div class=\"sk-container\" hidden><div class=\"sk-item\"><div class=\"sk-estimator sk-toggleable\"><input class=\"sk-toggleable__control sk-hidden--visually\" id=\"sk-estimator-id-2\" type=\"checkbox\" checked><label for=\"sk-estimator-id-2\" class=\"sk-toggleable__label sk-toggleable__label-arrow\">MLPClassifier</label><div class=\"sk-toggleable__content\"><pre>MLPClassifier(activation=&#x27;logistic&#x27;, early_stopping=True, max_iter=500,\n",
              "              random_state=42, verbose=True)</pre></div></div></div></div></div>"
            ]
          },
          "metadata": {},
          "execution_count": 116
        }
      ]
    },
    {
      "cell_type": "markdown",
      "source": [
        "Sinta-se à vontade para experimentar com os parâmetros da rede!\n",
        "\n",
        "Uma vez que nosso modelo está treinado, podemos medir seu desempenho usando nosso conjunto de teste. Primeiramente, vamos gerar o conjunto de predições do nosso classificador, comparar com a resposta correta e medir a acurácia:"
      ],
      "metadata": {
        "id": "4t_9GFaH9d60"
      }
    },
    {
      "cell_type": "code",
      "source": [
        "# Avalie o desempenho do modelo com a melhor configuração no conjunto de teste\n",
        "y_pred = mlp.predict(X_test)\n",
        "acuracia = accuracy_score(y_test, y_pred)\n",
        "\n",
        "# print(\"Melhores hiperparâmetros encontrados:\", melhores_parametros)\n",
        "print(\"Acurácia do melhor modelo no conjunto de teste:\", acuracia)"
      ],
      "metadata": {
        "id": "2O8qV-H7A8G2",
        "colab": {
          "base_uri": "https://localhost:8080/"
        },
        "outputId": "677f9c6e-b581-40e7-aae6-98576fdb35c8"
      },
      "execution_count": null,
      "outputs": [
        {
          "output_type": "stream",
          "name": "stdout",
          "text": [
            "Acurácia do melhor modelo no conjunto de teste: 0.7710843373493976\n"
          ]
        }
      ]
    },
    {
      "cell_type": "markdown",
      "source": [
        "> **DISCLAIMER:** Ao analisar a base de dados, percebemos que vários dados estavam repetidos. Ao retirar as repetições, a acurácia do modelo caiu drasticamente. No entanto, essa repetição não é necessariamente um problema, sendo na verdade uma aplicação acidental da técnica de [data augmentation](https://www.datacamp.com/tutorial/complete-guide-data-augmentation). Vale destacar, porém, que isso foi **acidental** e não houve nenhuma metodologia por trás dessa aplicação, e que alguns dos valores no conjunto de teste *também* ficaram repetidos, aumentando levemente a acurácia em 2%. Optamos por deixar a base assim para fins didáticos, e porque, no final das contas, funcionou."
      ],
      "metadata": {
        "id": "u2pCbNht7nRd"
      }
    },
    {
      "cell_type": "markdown",
      "source": [
        "Vamos analisar também a **matriz de confusão** do nosso teste. A matriz de confusão é uma tabela em que cada coluna corresponde aos valores previstos pela rede, enquanto cada linha corresponde à classe real dos itens. O valor em cada célula compara quantos dados de uma determinada classe X foram previstos como sendo da classe Y. A \"diagonal principal\" representa os valores previstos corretamente."
      ],
      "metadata": {
        "id": "hLp-2Qlh-f97"
      }
    },
    {
      "cell_type": "code",
      "source": [
        "matriz_confusao = confusion_matrix(y_test, y_pred)\n",
        "sns.heatmap(matriz_confusao, annot=True, cmap=\"Blues\", fmt='d', cbar=False)\n",
        "\n",
        "plt.xlabel('Previsto')\n",
        "plt.ylabel('Real')\n",
        "\n",
        "plt.show()"
      ],
      "metadata": {
        "id": "2wyY7VQVZrk_",
        "colab": {
          "base_uri": "https://localhost:8080/",
          "height": 449
        },
        "outputId": "dc371819-95fc-4cfc-ef9d-22e1f170c4e7"
      },
      "execution_count": null,
      "outputs": [
        {
          "output_type": "display_data",
          "data": {
            "text/plain": [
              "<Figure size 640x480 with 1 Axes>"
            ],
            "image/png": "[encoded data removed]"
          },
          "metadata": {}
        }
      ]
    },
    {
      "cell_type": "markdown",
      "source": [
        "Por fim, podemos gerar um resumo das métricas do MLP. Esse resumo apresenta, além da acurácia geral, a **precisão**, o **recall** e o **F1-score** para cada classe do nosso problema. Cada uma dessas métricas corresponde a uma medida de erro diferente; você pode conferir o significado de cada uma [aqui](https://neptune.ai/blog/performance-metrics-in-machine-learning-complete-guide)."
      ],
      "metadata": {
        "id": "2X1H-9gX_4L0"
      }
    },
    {
      "cell_type": "code",
      "source": [
        "class_report = classification_report(y_test, y_pred)\n",
        "print(class_report)"
      ],
      "metadata": {
        "id": "TxsUzzX4BALG",
        "colab": {
          "base_uri": "https://localhost:8080/"
        },
        "outputId": "c556da64-2e81-4ba8-88b1-a5a50955f804"
      },
      "execution_count": null,
      "outputs": [
        {
          "output_type": "stream",
          "name": "stdout",
          "text": [
            "              precision    recall  f1-score   support\n",
            "\n",
            "           0       0.70      0.87      0.78        38\n",
            "           1       0.86      0.69      0.77        45\n",
            "\n",
            "    accuracy                           0.77        83\n",
            "   macro avg       0.78      0.78      0.77        83\n",
            "weighted avg       0.79      0.77      0.77        83\n",
            "\n"
          ]
        }
      ]
    },
    {
      "cell_type": "markdown",
      "source": [
        "Podemos visualizar também como foi o desempenho do treinamento. Os parâmetros `loss_curve_` e `validation_scores_` mostram como o erro do treinamento e o *score* da validação foram melhorando ao longo das épocas. O ideal seria comparar apenas os erros do treino e da validação, mas como o Scikit-learn não exporta essa última métrica, podemos ter uma ideia de como a mesma se comporta pelo *score*:"
      ],
      "metadata": {
        "id": "i1NViuoT9_8M"
      }
    },
    {
      "cell_type": "code",
      "source": [
        "plt.xlabel('Épocas')\n",
        "plt.xticks(range(0, mlp.n_iter_, 7))\n",
        "plt.plot(\n",
        "  list(zip(mlp.loss_curve_, mlp.validation_scores_)),\n",
        "  label=['Erro Treino', 'Score Validação']\n",
        ")\n",
        "plt.legend()\n",
        "plt.show()"
      ],
      "metadata": {
        "id": "hmRLIhH4uM_7",
        "colab": {
          "base_uri": "https://localhost:8080/",
          "height": 451
        },
        "outputId": "78d3d7de-cb77-4142-ad18-6fdf0dcfcf62"
      },
      "execution_count": null,
      "outputs": [
        {
          "output_type": "display_data",
          "data": {
            "text/plain": [
              "<Figure size 640x480 with 1 Axes>"
            ],
            "image/png": "[encoded data removed]"
          },
          "metadata": {}
        }
      ]
    },
    {
      "cell_type": "markdown",
      "source": [
        "### Testando o classificador na prática\n",
        "\n",
        "Vamos usar o método `predict` do nosso classificador para testar alguns valores reais de ementas, e quais as suas previsões. `0` representa um parecer contrário, enquanto `1` representa um parecer favorável."
      ],
      "metadata": {
        "id": "9RP2JP3QTh4p"
      }
    },
    {
      "cell_type": "code",
      "source": [
        "#texto1 = \"Dispõe sobre a proibição da utilização de de scooter eletricas na calçada.\" # Y = 0 = Contra\n",
        "texto1 = \"Dispõe sobre a obrigatoriedade do Estado de manter escolas musicais nos municípios do mato grosso do sul.\" # Y = 1 = A favor\n",
        "\n",
        "texto1_embeddings = tfidf_vectorizer.transform([texto1])\n",
        "\n",
        "# Agora tente prever com o MLP\n",
        "mlp.predict(texto1_embeddings)[0]"
      ],
      "metadata": {
        "id": "E1BPLWzuQ2FV",
        "colab": {
          "base_uri": "https://localhost:8080/"
        },
        "outputId": "e2c9535e-2cde-41d5-8348-9798804753ea"
      },
      "execution_count": null,
      "outputs": [
        {
          "output_type": "execute_result",
          "data": {
            "text/plain": [
              "0"
            ]
          },
          "metadata": {},
          "execution_count": 122
        }
      ]
    },
    {
      "cell_type": "markdown",
      "source": [
        "Podemos ver também a \"probabilidade\", ou *score*, do item pertencer a cada classe segundo o modelo:\n"
      ],
      "metadata": {
        "id": "hzZdWA3jBSHP"
      }
    },
    {
      "cell_type": "code",
      "source": [
        "proba = mlp.predict_proba(texto1_embeddings)\n",
        "\n",
        "print(f'Contra:  {(proba[0][0]*100):.2f}%')\n",
        "print(f'A favor: {(proba[0][1]*100):.2f}%')"
      ],
      "metadata": {
        "id": "DLWdn220TyUM",
        "colab": {
          "base_uri": "https://localhost:8080/"
        },
        "outputId": "436e7eb0-20e3-4b3a-cdf0-8ebcfb7c817a"
      },
      "execution_count": null,
      "outputs": [
        {
          "output_type": "stream",
          "name": "stdout",
          "text": [
            "Contra:  53.55%\n",
            "A favor: 46.45%\n"
          ]
        }
      ]
    },
    {
      "cell_type": "markdown",
      "source": [
        "## BÔNUS: *Cross-validation* com `GridSearchCV`\n",
        "\n",
        "Além do processo normal de validação dos parâmetros internos da rede, é possível validar os hiperparâmetros da mesma, como tamanho das camadas ocultas, função de ativação, entre outros; antes da fase de teste. Esse processo é conhecido como **validação cruzada** ou *cross-validation*, e facilita e automatiza o processo de ajuste da rede.\n",
        "\n",
        "Durante o processo de elaboração desse notebook, usamos *cross-validation* para ajustar os hiperparâmetros do `MLPClassifier` e chegar nos resultados apresentados. Vale ressaltar que esse processo de validação cruzada é bastante demorado, pois consiste essencialmente em treinar vários modelos. Por isso, ficou como um extra nesse workshop.\n",
        "\n",
        "Abaixo, temos um exemplo do processo usando a classe `GridSearchCV` do Scikit-learn. \"Grid Search\" significa que cada combinação possível dos parâmetros passados será avaliada durante o processo."
      ],
      "metadata": {
        "id": "JsyzP1D-Ur4E"
      }
    },
    {
      "cell_type": "code",
      "source": [
        "param_grid = {\n",
        "    'hidden_layer_sizes': [(100,), (100, 50), (50, 25)],\n",
        "    'activation': ['logistic', 'relu', 'tanh'],\n",
        "    'max_iter': [500, 1000],\n",
        "    'alpha': [0.0001, 0.001, 0.005, 0.05],\n",
        "    'learning_rate': ['constant', 'adaptive'],\n",
        "    'solver': ['adam', 'lbfgs']\n",
        "}\n",
        "\n",
        "# param_grid = {\n",
        "#     'hidden_layer_sizes': [(100,)],\n",
        "#     'activation': ['tanh'],\n",
        "#     'max_iter': [500],\n",
        "#     'alpha': [0.0001]\n",
        "# }"
      ],
      "metadata": {
        "id": "VOYPJ2EOUz0R"
      },
      "execution_count": null,
      "outputs": []
    },
    {
      "cell_type": "markdown",
      "source": [
        "O parâmetro `cv=5` representa a quantidade de *folds* do processo de validação, uma vez que o o mesmo se realiza de modo diferente da validação que vimos até então. O método mais tradicional, usado até então, é chamado de validação **holdout**, pois uma parte do conjunto de treino é reservada para a validação.\n",
        "\n",
        "O `GridSearchCV` utiliza validação **k-fold**, que consiste em dividir o conjunto de treino em *k* partes iguais, chamadas **folds**. A cada época, (*k* - 1) *folds* são usados para treinamento, e um é reservado para validação. Esse pequeno conjunto de validação é trocado a cada época. `cv=5` indica que nossa validação cruzada será 5-*fold*.\n",
        "\n",
        "![image.png](data:image/png;base64,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)\n",
        "\n",
        "É um processo mais custoso em tempo do que a validação *holdout*, mas funciona muito bem para conjunto de dados pequenos, pois permite maior variedade no treinamento."
      ],
      "metadata": {
        "id": "z8HCKHDZETW2"
      }
    },
    {
      "cell_type": "code",
      "source": [
        "# Crie uma instância do MLPClassifier\n",
        "mlp = MLPClassifier(random_state=42)\n",
        "\n",
        "# Crie uma instância do GridSearchCV com o classificador e a lista de hiperparâmetros\n",
        "grid_search = GridSearchCV(mlp, param_grid, cv=5, n_jobs=-1, verbose=2)\n",
        "\n",
        "# Treine o GridSearchCV no conjunto de treinamento\n",
        "grid_search.fit(X_train, y_train)\n",
        "\n",
        "# Obtenha a melhor configuração de hiperparâmetros\n",
        "melhores_parametros = grid_search.best_params_\n",
        "\n",
        "# Avalie o desempenho do modelo com a melhor configuração no conjunto de teste\n",
        "melhor_modelo = grid_search.best_estimator_\n",
        "y_pred = melhor_modelo.predict(X_test)\n",
        "acuracia = accuracy_score(y_test, y_pred)\n",
        "\n",
        "print(\"Melhores hiperparâmetros encontrados:\", melhores_parametros)\n",
        "print(\"Acurácia do melhor modelo no conjunto de teste:\", acuracia)"
      ],
      "metadata": {
        "id": "WhjXD0QtU7wH",
        "colab": {
          "base_uri": "https://localhost:8080/"
        },
        "outputId": "a9103c26-4804-4c0c-82c4-e29916947dcb"
      },
      "execution_count": null,
      "outputs": [
        {
          "output_type": "stream",
          "name": "stdout",
          "text": [
            "Fitting 5 folds for each of 288 candidates, totalling 1440 fits\n",
            "Melhores hiperparâmetros encontrados: {'activation': 'logistic', 'alpha': 0.05, 'hidden_layer_sizes': (100,), 'learning_rate': 'constant', 'max_iter': 500, 'solver': 'adam'}\n",
            "Acurácia do melhor modelo no conjunto de teste: 0.7951807228915663\n"
          ]
        },
        {
          "output_type": "stream",
          "name": "stderr",
          "text": [
            "/usr/local/lib/python3.10/dist-packages/sklearn/neural_network/_multilayer_perceptron.py:686: ConvergenceWarning: Stochastic Optimizer: Maximum iterations (500) reached and the optimization hasn't converged yet.\n",
            "  warnings.warn(\n"
          ]
        }
      ]
    },
    {
      "cell_type": "code",
      "source": [
        "melhores_parametros"
      ],
      "metadata": {
        "colab": {
          "base_uri": "https://localhost:8080/"
        },
        "id": "qYV7ev-ShVcW",
        "outputId": "c7e9066e-348f-4664-f53f-d959cabcdea7"
      },
      "execution_count": null,
      "outputs": [
        {
          "output_type": "execute_result",
          "data": {
            "text/plain": [
              "{'activation': 'logistic',\n",
              " 'alpha': 0.05,\n",
              " 'hidden_layer_sizes': (100,),\n",
              " 'learning_rate': 'constant',\n",
              " 'max_iter': 500,\n",
              " 'solver': 'adam'}"
            ]
          },
          "metadata": {},
          "execution_count": 51
        }
      ]
    },
    {
      "cell_type": "code",
      "source": [],
      "metadata": {
        "id": "lEuaSAq3tnu4"
      },
      "execution_count": null,
      "outputs": []
    }
  ]
}